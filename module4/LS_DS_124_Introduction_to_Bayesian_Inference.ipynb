{
  "nbformat": 4,
  "nbformat_minor": 0,
  "metadata": {
    "colab": {
      "name": "LS_DS_124_Introduction_to_Bayesian_Inference.ipynb",
      "provenance": [],
      "collapsed_sections": [],
      "include_colab_link": true
    },
    "kernelspec": {
      "name": "python3",
      "display_name": "Python 3"
    }
  },
  "cells": [
    {
      "cell_type": "markdown",
      "metadata": {
        "id": "view-in-github",
        "colab_type": "text"
      },
      "source": [
        "<a href=\"https://colab.research.google.com/github/nsriniva/DS-Unit-1-Sprint-2-Statistics/blob/master/module4/LS_DS_124_Introduction_to_Bayesian_Inference.ipynb\" target=\"_parent\"><img src=\"https://colab.research.google.com/assets/colab-badge.svg\" alt=\"Open In Colab\"/></a>"
      ]
    },
    {
      "cell_type": "markdown",
      "metadata": {
        "id": "H7OLbevlbd_Z",
        "colab_type": "text"
      },
      "source": [
        "# Lambda School Data Science Module 123\n",
        "\n",
        "## Introduction to Bayesian Inference\n",
        "\n",
        "!['Detector! What would the Bayesian statistician say if I asked him whether the--' [roll] 'I AM A NEUTRINO DETECTOR, NOT A LABYRINTH GUARD. SERIOUSLY, DID YOUR BRAIN FALL OUT?' [roll] '... yes.'](https://imgs.xkcd.com/comics/frequentists_vs_bayesians.png)\n",
        "\n",
        "*[XKCD 1132](https://www.xkcd.com/1132/)*\n"
      ]
    },
    {
      "cell_type": "markdown",
      "metadata": {
        "id": "3mz8p08BsN6p",
        "colab_type": "text"
      },
      "source": [
        "## Prepare - Bayes' Theorem and the Bayesian mindset\n",
        "\n",
        "Bayes' theorem possesses a near-mythical quality - a bit of math that somehow magically evaluates a situation. But this mythicalness has more to do with its reputation and advanced applications than the actual core of it - deriving it is actually remarkably straightforward."
      ]
    },
    {
      "cell_type": "markdown",
      "metadata": {
        "id": "Fa-jzYp9i8La",
        "colab_type": "text"
      },
      "source": [
        "### The Law of Total Probability\n",
        "\n",
        "By definition, the total probability of all outcomes (events) if some variable (event space) $A$ is 1. That is:\n",
        "\n",
        "$$P(A) = \\sum_n P(A_n) = 1$$\n",
        "\n",
        "The law of total probability takes this further, considering two variables ($A$ and $B$) and relating their marginal probabilities (their likelihoods considered independently, without reference to one another) and their conditional probabilities (their likelihoods considered jointly). A marginal probability is simply notated as e.g. $P(A)$, while a conditional probability is notated $P(A|B)$, which reads \"probability of $A$ *given* $B$\".\n",
        "\n",
        "The law of total probability states:\n",
        "\n",
        "$$P(A) = \\sum_n P(A | B_n) P(B_n)$$\n",
        "\n",
        "In words - the total probability of $A$ is equal to the sum of the conditional probability of $A$ on any given event $B_n$ times the probability of that event $B_n$, and summed over all possible events in $B$."
      ]
    },
    {
      "cell_type": "markdown",
      "metadata": {
        "id": "GhycNr-Sbeie",
        "colab_type": "text"
      },
      "source": [
        "\n",
        "\n",
        "\n",
        "\n",
        "### The Law of Conditional Probability\n",
        "\n",
        "What's the probability of something conditioned on something else? To determine this we have to go back to set theory and think about the intersection of sets:\n",
        "\n",
        "The formula for actual calculation:\n",
        "\n",
        "$$P(A|B) = \\frac{P(A \\cap B)}{P(B)}$$\n",
        "\n",
        "![Visualization of set intersection](https://upload.wikimedia.org/wikipedia/commons/9/99/Venn0001.svg)\n",
        "\n",
        "Think of the overall rectangle as the whole probability space, $A$ as the left circle, $B$ as the right circle, and their intersection as the red area. Try to visualize the ratio being described in the above formula, and how it is different from just the $P(A)$ (not conditioned on $B$).\n",
        "\n",
        "We can see how this relates back to the law of total probability - multiply both sides by $P(B)$ and you get $P(A|B)P(B) = P(A \\cap B)$ - replaced back into the law of total probability we get $P(A) = \\sum_n P(A \\cap B_n)$.\n",
        "\n",
        "This may not seem like an improvement at first, but try to relate it back to the above picture - if you think of sets as physical objects, we're saying that the total probability of $A$ given $B$ is all the little pieces of it intersected with $B$, added together. The conditional probability is then just that again, but divided by the probability of $B$ itself happening in the first place.\n"
      ]
    },
    {
      "cell_type": "markdown",
      "metadata": {
        "id": "hi45SXVyi_Wt",
        "colab_type": "text"
      },
      "source": [
        "### Bayes Theorem\n",
        "\n",
        "Here is is, the seemingly magic tool:\n",
        "\n",
        "$$P(A|B) = \\frac{P(B|A)P(A)}{P(B)}$$\n",
        "\n",
        "In words - the probability of $A$ conditioned on $B$ is the probability of $B$ conditioned on $A$, times the probability of $A$ and divided by the probability of $B$. These unconditioned probabilities are referred to as \"prior beliefs\", and the conditioned probabilities as \"updated.\"\n",
        "\n",
        "Why is this important? Scroll back up to the XKCD example - the Bayesian statistician draws a less absurd conclusion because their prior belief in the likelihood that the sun will go nova is extremely low. So, even when updated based on evidence from a detector that is $35/36 = 0.972$ accurate, the prior belief doesn't shift enough to change their overall opinion.\n",
        "\n",
        "### Using Bayes Theorem Iteratively (repeated testing)\n",
        "\n",
        "This example comes from [Wikipedia](https://en.wikipedia.org/wiki/Bayes%27_theorem)\n",
        "\n",
        "There are many ways to apply Bayes' theorem - one less absurd example is to apply it to drug tests. You may think that a drug test that is 100% accurate for true positives (detecting somebody who is a user) is pretty good, but what if it also has 1% false positive rate (indicating somebody is a user when they're not)? And furthermore, the rate of drug use in the population at large (and thus our prior belief) is 1/200.\n",
        "\n",
        "What is the likelihood somebody really is drunk if they test positive? Some may guess it's 99% - the difference between the true positives and the false positives. But we have a prior belief of the background/true rate of drug use. Sounds like a job for Bayes' theorem!\n",
        "\n",
        "![Bayes Theorem Drug Test Example](https://wikimedia.org/api/rest_v1/media/math/render/svg/95c6524a3736c43e4bae139713f3df2392e6eda9)\n",
        "\n",
        "In other words, the likelihood that somebody is a user given they tested positive on a drug test is only 33.2% - probably much lower than you'd guess. This is why, in practice, it's important to use repeated testing to confirm. If we have the same individual who tested positive the first time take the drug test a second time then the posterior probability from our the first test becomes our new prior during the second application. What is the probability that a person is a drug user after two positive drug tests in a row?\n",
        "\n",
        "Bayes' theorem has been relevant in court cases where proper consideration of evidence was important. Whether it's a drug test, breathalyzer, pregnancy test, doctor's diagnosis, or neutrino detector, we have to take into account **both** the false positive rate and our prior probability in order to calculate the correct conditional probability."
      ]
    },
    {
      "cell_type": "code",
      "metadata": {
        "id": "jvXFNqG37EiQ",
        "colab_type": "code",
        "colab": {
          "base_uri": "https://localhost:8080/",
          "height": 35
        },
        "outputId": "2897bcff-ebd9-444b-f504-8455a5f6ae08"
      },
      "source": [
        "#What is the probability today is a Wednesday?\n",
        "\n",
        "#1. Without any additional information:\n",
        "#P(wednesday)\n",
        "\n",
        "wednesday = 1\n",
        "total_days = 7\n",
        "\n",
        "probability_wednesday =  wednesday/total_days\n",
        "\n",
        "probability_wednesday\n",
        "\n",
        "#2. What if I tell you that today is a lecture day?\n",
        "# P(wednesday | lecture)\n",
        "\n",
        "wednesday = 1\n",
        "lecture_days = 4\n",
        "\n",
        "probability_wednesday_given_lecture = wednesday / lecture_days\n",
        "\n",
        "probability_wednesday_given_lecture\n",
        "\n",
        "\n",
        "#P(A|B) = P(B|A)P(A) / P(B)\n",
        "\n",
        "#P(A|B)P(B) = P(B|A)P(A)\n",
        "\n",
        "#What is the probability of drawing a king of hearts from a deck of cards?\n",
        "(1/52)\n",
        "\n",
        "\n",
        "#What is the probability of drawing a king of hearts and then a queen of spades\n",
        "(1/52)*(1/51) \n",
        "\n",
        "\n",
        "#What is the probability of drawing a queen of spades and then a king of hearts\n",
        "(1/52)*(1/51)\n",
        "\n",
        "\n",
        "#P(A|B) = P(B|A)P(A) / P(B)\n",
        "\n"
      ],
      "execution_count": null,
      "outputs": [
        {
          "output_type": "execute_result",
          "data": {
            "text/plain": [
              "0.25"
            ]
          },
          "metadata": {
            "tags": []
          },
          "execution_count": 3
        }
      ]
    },
    {
      "cell_type": "markdown",
      "metadata": {
        "id": "htI3DGvDsRJF",
        "colab_type": "text"
      },
      "source": [
        "## Live Lecture - Deriving Bayes' Theorem, Calculating Bayesian Confidence"
      ]
    },
    {
      "cell_type": "markdown",
      "metadata": {
        "id": "moIJNQ-nbfe_",
        "colab_type": "text"
      },
      "source": [
        "Notice that $P(A|B)$ appears in the above laws - in Bayesian terms, this is the belief in $A$ updated for the evidence $B$. So all we need to do is solve for this term to derive Bayes' theorem. Let's do it together!"
      ]
    },
    {
      "cell_type": "code",
      "metadata": {
        "id": "ke-5EqJI0Tsn",
        "colab_type": "code",
        "colab": {
          "base_uri": "https://localhost:8080/",
          "height": 35
        },
        "outputId": "e2dc8e7c-77c5-4ae3-9f85-f56a5d5015a9"
      },
      "source": [
        "\n",
        "\n",
        "#true postive rate (prob a )\n",
        "p_pos_user = 1 \n",
        "\n",
        "#prior probability (probability somebody is a drug user)\n",
        "p_user = 1/200\n",
        "\n",
        "#false positive rate\n",
        "p_pos_non_user = .01\n",
        "\n",
        "#Probability of non-user (complement prior)\n",
        "p_non_user = 1-p_user\n",
        "\n",
        "\n",
        "\n",
        "#We want to solve for what is the probability of somebody being a user given positive\n",
        "numerator = p_user*p_pos_user\n",
        "\n",
        "#denominator = P(positive) \n",
        "\n",
        "denominator = (p_user*p_pos_user) + (p_non_user*p_pos_non_user)\n",
        "\n",
        "posterior_probability1 = numerator/denominator\n",
        "\n",
        "print(posterior_probability1)\n"
      ],
      "execution_count": null,
      "outputs": [
        {
          "output_type": "stream",
          "text": [
            "0.33444816053511706\n"
          ],
          "name": "stdout"
        }
      ]
    },
    {
      "cell_type": "code",
      "metadata": {
        "id": "AoFcoTn8JcHu",
        "colab_type": "code",
        "colab": {
          "base_uri": "https://localhost:8080/",
          "height": 35
        },
        "outputId": "dcf9da3c-f2b6-47a5-dcee-05f476823b7f"
      },
      "source": [
        "#Test them a second time!\n",
        "\n",
        "#true postive rate (prob somebody tests positive given they are a drug user)\n",
        "p_pos_user = 1 \n",
        "\n",
        "#prior probability (probability somebody is a drug user)\n",
        "p_user = posterior_probability1\n",
        "\n",
        "#false positive rate\n",
        "p_pos_non_user = .01\n",
        "\n",
        "#Probability of non-user (complement prior)\n",
        "p_non_user = 1-p_user\n",
        "\n",
        "#We want to solve for what is the probability of somebody being a user given positive\n",
        "numerator = p_user*p_pos_user\n",
        "\n",
        "#denominator = P(positive) \n",
        "\n",
        "denominator = (p_user*p_pos_user) + (p_non_user*p_pos_non_user)\n",
        "\n",
        "posterior_probability2 = numerator/denominator\n",
        "\n",
        "print(posterior_probability2)\n"
      ],
      "execution_count": null,
      "outputs": [
        {
          "output_type": "stream",
          "text": [
            "0.9804882831650161\n"
          ],
          "name": "stdout"
        }
      ]
    },
    {
      "cell_type": "code",
      "metadata": {
        "id": "1UfOYEOZMkDl",
        "colab_type": "code",
        "colab": {
          "base_uri": "https://localhost:8080/",
          "height": 35
        },
        "outputId": "adab178e-4b49-42b7-ce9a-14bb69c23534"
      },
      "source": [
        "#Test them a third time!\n",
        "\n",
        "#true postive rate (prob somebody tests positive given they are a drug user)\n",
        "p_pos_user = 1 \n",
        "\n",
        "#prior probability (probability somebody is a drug user)\n",
        "p_user = posterior_probability2\n",
        "\n",
        "#false positive rate\n",
        "p_pos_non_user = .01\n",
        "\n",
        "#Probability of non-user (complement prior)\n",
        "p_non_user = 1-p_user\n",
        "\n",
        "#We want to solve for what is the probability of somebody being a user given positive\n",
        "numerator = p_user*p_pos_user\n",
        "\n",
        "#denominator = P(positive) \n",
        "\n",
        "denominator = (p_user*p_pos_user) + (p_non_user*p_pos_non_user)\n",
        "\n",
        "posterior_probability3 = numerator/denominator\n",
        "\n",
        "print(posterior_probability3)"
      ],
      "execution_count": null,
      "outputs": [
        {
          "output_type": "stream",
          "text": [
            "0.9998010395931209\n"
          ],
          "name": "stdout"
        }
      ]
    },
    {
      "cell_type": "code",
      "metadata": {
        "id": "GQKJO39bNcDn",
        "colab_type": "code",
        "colab": {
          "base_uri": "https://localhost:8080/",
          "height": 35
        },
        "outputId": "1ed312a4-c6d8-454b-9421-06ab14b0e18e"
      },
      "source": [
        "# Activity 2 - Use SciPy to calculate Bayesian confidence intervals\n",
        "# https://docs.scipy.org/doc/scipy/reference/generated/scipy.stats.bayes_mvs.html#scipy.stats.bayes_mvs\n",
        "\n",
        "import numpy as np\n",
        "from scipy import stats\n",
        "\n",
        "coinflips = np.random.binomial(n=1, p = .6, size = 4)\n",
        "\n",
        "coinflips\n"
      ],
      "execution_count": null,
      "outputs": [
        {
          "output_type": "execute_result",
          "data": {
            "text/plain": [
              "array([1, 1, 0, 1])"
            ]
          },
          "metadata": {
            "tags": []
          },
          "execution_count": 23
        }
      ]
    },
    {
      "cell_type": "code",
      "metadata": {
        "id": "myyQnXiLN1UM",
        "colab_type": "code",
        "colab": {
          "base_uri": "https://localhost:8080/",
          "height": 35
        },
        "outputId": "094df50c-3edb-4971-e48d-ac677d24e0c7"
      },
      "source": [
        "def confidence_interval(data, confidence=.95):\n",
        "  # Make sure we're working with a numpy array\n",
        "  sample = np.array(data)\n",
        "  # Sample Mean\n",
        "  x_bar = sample.mean()\n",
        "  # Sample Standard Deviation\n",
        "  s = np.std(sample, ddof=1)\n",
        "  # Sample Size\n",
        "  n = len(sample)\n",
        "  # T statistic - correspond to our confidence level, and our degrees of freedom\n",
        "  t = stats.t.ppf((1+confidence) / 2, n-1)\n",
        "  # Standard Error\n",
        "  std_err = s / np.sqrt(n)\n",
        "  # Margin of Error\n",
        "  moe = std_err * t\n",
        "  # Lower and Upper Bound\n",
        "  upper = x_bar + moe\n",
        "  lower = x_bar - moe\n",
        "\n",
        "  return (lower, x_bar, upper, moe)\n",
        "\n",
        "confidence_interval(coinflips)"
      ],
      "execution_count": null,
      "outputs": [
        {
          "output_type": "execute_result",
          "data": {
            "text/plain": [
              "(-0.04561157632106572, 0.75, 1.5456115763210656, 0.7956115763210657)"
            ]
          },
          "metadata": {
            "tags": []
          },
          "execution_count": 24
        }
      ]
    },
    {
      "cell_type": "code",
      "metadata": {
        "id": "hUoOKoMvOBKJ",
        "colab_type": "code",
        "colab": {
          "base_uri": "https://localhost:8080/",
          "height": 70
        },
        "outputId": "6e4e0ad5-e5df-4c4e-8fc0-d21fe2bb7de6"
      },
      "source": [
        " stats.bayes_mvs(coinflips) "
      ],
      "execution_count": null,
      "outputs": [
        {
          "output_type": "execute_result",
          "data": {
            "text/plain": [
              "(Mean(statistic=0.75, minmax=(0.16165914129954306, 1.3383408587004566)),\n",
              " Variance(statistic=0.75, minmax=(0.09597263132961745, 2.1316124744396374)),\n",
              " Std_dev(statistic=0.6909882989426709, minmax=(0.30979449854640323, 1.4600042720621187)))"
            ]
          },
          "metadata": {
            "tags": []
          },
          "execution_count": 25
        }
      ]
    },
    {
      "cell_type": "code",
      "metadata": {
        "id": "GZY1QxivOIWs",
        "colab_type": "code",
        "colab": {
          "base_uri": "https://localhost:8080/",
          "height": 35
        },
        "outputId": "06ef6f10-1521-445d-8a81-1eb08e2706b6"
      },
      "source": [
        "mean_confidence_interval, variance_interval, std_interval =  stats.bayes_mvs(coinflips, alpha=.95)\n",
        "\n",
        "\n",
        "mean_confidence_interval"
      ],
      "execution_count": null,
      "outputs": [
        {
          "output_type": "execute_result",
          "data": {
            "text/plain": [
              "Mean(statistic=0.75, minmax=(-0.04561157632106572, 1.5456115763210656))"
            ]
          },
          "metadata": {
            "tags": []
          },
          "execution_count": 26
        }
      ]
    },
    {
      "cell_type": "markdown",
      "metadata": {
        "id": "uWgWjp3PQ3Sq",
        "colab_type": "text"
      },
      "source": [
        "## Resources"
      ]
    },
    {
      "cell_type": "markdown",
      "metadata": {
        "id": "QRgHqmYIQ9qn",
        "colab_type": "text"
      },
      "source": [
        "- [Worked example of Bayes rule calculation](https://en.wikipedia.org/wiki/Bayes'_theorem#Examples) (helpful as it fully breaks out the denominator)\n",
        "- [Source code for mvsdist in scipy](https://github.com/scipy/scipy/blob/90534919e139d2a81c24bf08341734ff41a3db12/scipy/stats/morestats.py#L139)"
      ]
    }
  ]
}