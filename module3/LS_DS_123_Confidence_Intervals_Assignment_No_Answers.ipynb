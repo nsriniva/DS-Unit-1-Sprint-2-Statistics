{
  "nbformat": 4,
  "nbformat_minor": 0,
  "metadata": {
    "colab": {
      "name": "Copy of LS_DS_123_Confidence_Intervals_Assignment_No_Answers.ipynb",
      "provenance": [],
      "collapsed_sections": [],
      "include_colab_link": true
    },
    "kernelspec": {
      "name": "python3",
      "display_name": "Python 3"
    }
  },
  "cells": [
    {
      "cell_type": "markdown",
      "metadata": {
        "id": "view-in-github",
        "colab_type": "text"
      },
      "source": [
        "<a href=\"https://colab.research.google.com/github/nsriniva/DS-Unit-1-Sprint-2-Statistics/blob/master/module3/LS_DS_123_Confidence_Intervals_Assignment_No_Answers.ipynb\" target=\"_parent\"><img src=\"https://colab.research.google.com/assets/colab-badge.svg\" alt=\"Open In Colab\"/></a>"
      ]
    },
    {
      "cell_type": "markdown",
      "metadata": {
        "id": "g_c3L9CeANiJ",
        "colab_type": "text"
      },
      "source": [
        "## Confidence Intervals\n",
        "\n",
        "Soft drinks like Coke and Pepsi are manufactured to have a standard caffeine content. For example, a 12-oz serving of Coke has 34mg of caffeine, and a 12-oz serving of Pepsi has 37.6mg of caffeine. However, fountain soft drinks are typically mixed in individual restaurant dispensers, so it is more difficult to maintain a standard level of caffeine per serving. In this study, researchers randomly sampled Coke, Diet Coke, Pepsi, and Diet Pepsi at a set of franchise restaurants and measured the caffeine content in 12oz of each soft drink2. The data is found in the Soda.xlsx dataset.\n",
        "\n",
        "Because individuals can be sensitive to caffeine – and because the manufacturers are interested in product consistency – we wish to estimate the mean caffeine content in 12oz of Coke served in franchise restaurants using a 95% confidence interval. \n",
        "\n",
        "You can find the Coke data here: https://raw.githubusercontent.com/Chelsea-Myers/Lambda-Intro/master/Coke.csv\n",
        "\n",
        "The first variable is the sample ID and the second variable is the caffeine content in the 12-oz sample measured in mg.\n",
        "\n",
        "Source: A.N. Garand and L.N. Bell (1997). \"Caffeine Content of Fountain and Private-Label Store Brand Carbonated Beverages,\" Journal of the American Dietetic Association, Vol. 97, #2, pp. 179-182.\n",
        "\n",
        "\n"
      ]
    },
    {
      "cell_type": "markdown",
      "metadata": {
        "id": "oaJpAIakUo31",
        "colab_type": "text"
      },
      "source": [
        "###1) Load the dataset and print the first few rows"
      ]
    },
    {
      "cell_type": "code",
      "metadata": {
        "id": "yXwMJQGrAIbO",
        "colab_type": "code",
        "colab": {}
      },
      "source": [
        "#Import statements\n",
        "import pandas as pd\n",
        "import numpy as np\n",
        "\n",
        "coke_url = 'https://raw.githubusercontent.com/Chelsea-Myers/Lambda-Intro/master/Coke.csv'\n",
        "\n",
        "df = pd.read_csv(coke_url)"
      ],
      "execution_count": 19,
      "outputs": []
    },
    {
      "cell_type": "code",
      "metadata": {
        "id": "pYsFvm1dPygj",
        "colab_type": "code",
        "colab": {
          "base_uri": "https://localhost:8080/",
          "height": 204
        },
        "outputId": "7bb73966-3e1d-4cee-eb8b-2e41af27ab58"
      },
      "source": [
        "#Print the top 5 rows\n",
        "df.head(5)"
      ],
      "execution_count": 15,
      "outputs": [
        {
          "output_type": "execute_result",
          "data": {
            "text/html": [
              "<div>\n",
              "<style scoped>\n",
              "    .dataframe tbody tr th:only-of-type {\n",
              "        vertical-align: middle;\n",
              "    }\n",
              "\n",
              "    .dataframe tbody tr th {\n",
              "        vertical-align: top;\n",
              "    }\n",
              "\n",
              "    .dataframe thead th {\n",
              "        text-align: right;\n",
              "    }\n",
              "</style>\n",
              "<table border=\"1\" class=\"dataframe\">\n",
              "  <thead>\n",
              "    <tr style=\"text-align: right;\">\n",
              "      <th></th>\n",
              "      <th>Drink</th>\n",
              "      <th>Caffeine</th>\n",
              "    </tr>\n",
              "  </thead>\n",
              "  <tbody>\n",
              "    <tr>\n",
              "      <th>0</th>\n",
              "      <td>1</td>\n",
              "      <td>47.32</td>\n",
              "    </tr>\n",
              "    <tr>\n",
              "      <th>1</th>\n",
              "      <td>2</td>\n",
              "      <td>43.78</td>\n",
              "    </tr>\n",
              "    <tr>\n",
              "      <th>2</th>\n",
              "      <td>3</td>\n",
              "      <td>48.12</td>\n",
              "    </tr>\n",
              "    <tr>\n",
              "      <th>3</th>\n",
              "      <td>4</td>\n",
              "      <td>43.25</td>\n",
              "    </tr>\n",
              "    <tr>\n",
              "      <th>4</th>\n",
              "      <td>5</td>\n",
              "      <td>46.42</td>\n",
              "    </tr>\n",
              "  </tbody>\n",
              "</table>\n",
              "</div>"
            ],
            "text/plain": [
              "   Drink  Caffeine\n",
              "0      1     47.32\n",
              "1      2     43.78\n",
              "2      3     48.12\n",
              "3      4     43.25\n",
              "4      5     46.42"
            ]
          },
          "metadata": {
            "tags": []
          },
          "execution_count": 15
        }
      ]
    },
    {
      "cell_type": "markdown",
      "metadata": {
        "id": "wOQ-9E8uYcni",
        "colab_type": "text"
      },
      "source": [
        "###2) Calculate the mean, SD, SE caffeiene content and n for the sample.  Summarize your results in a sentence or two."
      ]
    },
    {
      "cell_type": "code",
      "metadata": {
        "id": "m1vuFGxVQo64",
        "colab_type": "code",
        "colab": {
          "base_uri": "https://localhost:8080/",
          "height": 34
        },
        "outputId": "7dbc0ccb-a67a-414d-8e4a-93f1995d7448"
      },
      "source": [
        "#Calculations here\n",
        "c_mean = df.Caffeine.mean()\n",
        "c_sd   = df.Caffeine.std()\n",
        "c_n = len(df.Caffeine)\n",
        "\n",
        "c_se = c_sd/(c_n**0.5)\n",
        "\n",
        "print(c_mean, c_sd, c_n, c_se)"
      ],
      "execution_count": 9,
      "outputs": [
        {
          "output_type": "stream",
          "text": [
            "37.9402 5.243756828216712 50 0.7415792024250598\n"
          ],
          "name": "stdout"
        }
      ]
    },
    {
      "cell_type": "markdown",
      "metadata": {
        "id": "y2Rz-8O-YmF9",
        "colab_type": "text"
      },
      "source": [
        "The mean caffeine content for the sample size of 50 is 37.9402 mg with a standard deviation of 5.2438 and a standard error of 0.7416"
      ]
    },
    {
      "cell_type": "markdown",
      "metadata": {
        "colab_type": "text",
        "id": "RySL5E7GEHGf"
      },
      "source": [
        "###3) Find t* for a 95% confidence interval.  \n",
        "\n",
        "Use the starter code below and fill in the degrees of freedom."
      ]
    },
    {
      "cell_type": "code",
      "metadata": {
        "id": "ti9x37XSQ_yL",
        "colab_type": "code",
        "colab": {
          "base_uri": "https://localhost:8080/",
          "height": 34
        },
        "outputId": "d3ce7711-9ee2-448e-c5f4-9573a116b3eb"
      },
      "source": [
        "from scipy.stats import t\n",
        "\n",
        "#Don't worry too much about where the 0.975 comes from.  It has to do\n",
        "#with wanting to determine the *middle* 95% of the t-distribution\n",
        "#We're going to learn\n",
        "#how to calculate a 95% CI this easy way in just a minute.\n",
        "\n",
        "#Recall that n = 223 for the body temp problem.\n",
        "t_star = t.ppf(0.975,df=c_n-1)\n",
        "print('t_star =', t_star)"
      ],
      "execution_count": 14,
      "outputs": [
        {
          "output_type": "stream",
          "text": [
            "t_star = 2.009575234489209\n"
          ],
          "name": "stdout"
        }
      ]
    },
    {
      "cell_type": "markdown",
      "metadata": {
        "colab_type": "text",
        "id": "AddooPk1JBvQ"
      },
      "source": [
        "###4) Calculate the margin of error for a 95% confidence interval for the mean caffeine content in a 12-oz Coke.\n",
        "\n"
      ]
    },
    {
      "cell_type": "code",
      "metadata": {
        "id": "IjjYtXodJW-b",
        "colab_type": "code",
        "colab": {
          "base_uri": "https://localhost:8080/",
          "height": 34
        },
        "outputId": "56b7d747-6be9-444f-8f6e-b860927fc045"
      },
      "source": [
        "#Calculations here\n",
        "err_margin = t_star*c_se\n",
        "err_margin"
      ],
      "execution_count": 17,
      "outputs": [
        {
          "output_type": "execute_result",
          "data": {
            "text/plain": [
              "1.49031936"
            ]
          },
          "metadata": {
            "tags": []
          },
          "execution_count": 17
        }
      ]
    },
    {
      "cell_type": "markdown",
      "metadata": {
        "id": "ePBmVZU7N2nq",
        "colab_type": "text"
      },
      "source": [
        "The margin of error is $t^**0.7416$ = 2.0096*0.7416 = 1.4903"
      ]
    },
    {
      "cell_type": "markdown",
      "metadata": {
        "id": "AtGASqgxYp5t",
        "colab_type": "text"
      },
      "source": [
        "###5) Calculate a 95% CI for the mean caffeine content in a 12-oz fountain Coke with the CI formula using the summary statistics and t* that you calculated above."
      ]
    },
    {
      "cell_type": "code",
      "metadata": {
        "id": "JPUE0osGEw0M",
        "colab_type": "code",
        "colab": {
          "base_uri": "https://localhost:8080/",
          "height": 34
        },
        "outputId": "31572894-be83-40dd-b81a-0862bec9df7a"
      },
      "source": [
        "#Calculations here\n",
        "lower_ci = c_mean - err_margin\n",
        "upper_ci = c_mean + err_margin\n",
        "\n",
        "print(lower_ci, upper_ci)"
      ],
      "execution_count": 18,
      "outputs": [
        {
          "output_type": "stream",
          "text": [
            "36.44994080039434 39.43045919960566\n"
          ],
          "name": "stdout"
        }
      ]
    },
    {
      "cell_type": "markdown",
      "metadata": {
        "colab_type": "text",
        "id": "gAKJlaMyEzVz"
      },
      "source": [
        "###6) Calculate a 95% CI for the mean caffeiene content in a 12-oz fountain Coke using the t-interval function in Python."
      ]
    },
    {
      "cell_type": "code",
      "metadata": {
        "colab_type": "code",
        "id": "GSo4uKWVFKwQ",
        "colab": {
          "base_uri": "https://localhost:8080/",
          "height": 34
        },
        "outputId": "46be61ea-b94b-4e65-991f-079cea31514f"
      },
      "source": [
        "#Calculations here\n",
        "l95_ci, u95_ci = t.interval(0.95, df = c_n-1,loc=c_mean, scale=c_se )\n",
        "print(l95_ci, u95_ci)"
      ],
      "execution_count": 21,
      "outputs": [
        {
          "output_type": "stream",
          "text": [
            "36.44994080039434 39.43045919960566\n"
          ],
          "name": "stdout"
        }
      ]
    },
    {
      "cell_type": "markdown",
      "metadata": {
        "id": "8oD8lp84YyvU",
        "colab_type": "text"
      },
      "source": [
        "###7) Compare the two confidence intervals you calculated.  Do they match?  Should they?"
      ]
    },
    {
      "cell_type": "markdown",
      "metadata": {
        "id": "mBMX1NAIFT88",
        "colab_type": "text"
      },
      "source": [
        "Both the confidence intervals are identical, as they should be."
      ]
    },
    {
      "cell_type": "markdown",
      "metadata": {
        "id": "-2ulIAGmYudp",
        "colab_type": "text"
      },
      "source": [
        "###8) Interpret the meaning of the 95% confidence interval for the mean caffeiene content in a 12-oz fountain Coke. in a sentence or two."
      ]
    },
    {
      "cell_type": "markdown",
      "metadata": {
        "id": "hD5HloatYxoh",
        "colab_type": "text"
      },
      "source": [
        "We are 95% confident that mean caffeine content in 12oz of Coke served in franchise restaurants is between 36.45 and 39.43 mg."
      ]
    },
    {
      "cell_type": "markdown",
      "metadata": {
        "id": "SpqgKQfTYvF0",
        "colab_type": "text"
      },
      "source": [
        "###9) Using the t-interval Python function, calculate a 90% confidence interval for the mean caffeine content in a 12-oz Coke.  Is this estimate more accurate or more precise (pick one) than the 95% confidence interval?\n",
        "\n"
      ]
    },
    {
      "cell_type": "code",
      "metadata": {
        "id": "r1y1LE_dPAi6",
        "colab_type": "code",
        "colab": {
          "base_uri": "https://localhost:8080/",
          "height": 34
        },
        "outputId": "f0d3638e-f57b-4d2b-915a-36c2eee598a3"
      },
      "source": [
        "#Calculations here\n",
        "l90_ci,u90_ci = t.interval(0.9, df = c_n-1,loc=c_mean, scale=c_se)\n",
        "print(l90_ci, u90_ci)"
      ],
      "execution_count": 22,
      "outputs": [
        {
          "output_type": "stream",
          "text": [
            "36.696904726749196 39.1834952732508\n"
          ],
          "name": "stdout"
        }
      ]
    },
    {
      "cell_type": "markdown",
      "metadata": {
        "colab_type": "text",
        "id": "7WIQtB0PGJP4"
      },
      "source": [
        "We are 90% confident that mean caffeine content in 12oz of Coke served in franchise restaurants is between 36.70 and 39.18 mg.\n",
        "\n",
        "This estimate is less(90% as opposed to 95%) accurate but more precise(smaller range)."
      ]
    },
    {
      "cell_type": "markdown",
      "metadata": {
        "colab_type": "text",
        "id": "hQsmY8RnHKJf"
      },
      "source": [
        "###10) Using the t-interval Python function, calculate a 99% confidence interval for the mean caffeine content in a 12-oz Coke.  Is this estimate more accurate or more precise (pick one) than the 95% confidence interval?\n",
        "\n"
      ]
    },
    {
      "cell_type": "code",
      "metadata": {
        "id": "YrKq5pXYPNnK",
        "colab_type": "code",
        "colab": {
          "base_uri": "https://localhost:8080/",
          "height": 34
        },
        "outputId": "07ba3b00-3810-46b5-9a47-8166f42093b6"
      },
      "source": [
        "#Calculations here\n",
        "l99_ci,u99_ci = t.interval(0.99, df = c_n-1,loc=c_mean, scale=c_se)\n",
        "print(l99_ci, u99_ci)"
      ],
      "execution_count": 23,
      "outputs": [
        {
          "output_type": "stream",
          "text": [
            "35.95280335285685 39.92759664714315\n"
          ],
          "name": "stdout"
        }
      ]
    },
    {
      "cell_type": "markdown",
      "metadata": {
        "colab_type": "text",
        "id": "liduCGIkJAC2"
      },
      "source": [
        "We are 99% confident that mean caffeine content in 12oz of Coke served in franchise restaurants is between 35.95 and 39.93 mg.\n",
        "\n",
        "This estimate is more(99% as opposed to 95%) accurate but less precise(larger range).\n"
      ]
    },
    {
      "cell_type": "markdown",
      "metadata": {
        "id": "9tIHBlM_SyGR",
        "colab_type": "text"
      },
      "source": [
        "## Stretch goals:\n",
        "\n",
        "###1) The correspondence between confidence intervals and hypothesis tests.\n",
        "\n",
        "Read [this](https://https://blog.minitab.com/blog/adventures-in-statistics-2/understanding-hypothesis-tests-confidence-intervals-and-confidence-levels#:~:text=If%20a%20hypothesis%20test%20produces,corresponding%20confidence%20level%20is%2095%25.&text=If%20the%20confidence%20interval%20does,the%20results%20are%20statistically%20significant.) article about the correspondence between confidence intervals and hypothesis tests.  Feel free to read the whole article, but the relevant part can be found under the heading Why P Values and Confidence Intervals Always Agree About Statistical Significance.\n",
        "\n",
        "Imagine you work for quality control at Coke and are tasked with making sure that the caffeiene content in the fountain beverages served in restaurants is the same as in a 12-oz can of Coke (34mg).  If you believe that the mean caffeiene content in fountain coke is not 34mg, you must re-train the franchise managers to make sure the Coke served has the correct caffeiene level.\n",
        "\n",
        "Based on the confidence interval you calculated in the assignment, do you believe that the mean caffeiene content is statistically significantly different from 34 mg in a 12-oz serving?\n"
      ]
    },
    {
      "cell_type": "markdown",
      "metadata": {
        "id": "4Aa3df-_LgnT",
        "colab_type": "text"
      },
      "source": [
        "Answer here."
      ]
    },
    {
      "cell_type": "markdown",
      "metadata": {
        "id": "Ne4k2kd3LhfV",
        "colab_type": "text"
      },
      "source": [
        "###2) If we increased the sample size from 50 to 100 but the sample mean and SD remained the same, describe **two** ways the margin of error would change.  Would the margin of error become smaller or larger?"
      ]
    },
    {
      "cell_type": "markdown",
      "metadata": {
        "id": "6lVcoTU6L5Pg",
        "colab_type": "text"
      },
      "source": [
        "Answer to what would change here."
      ]
    },
    {
      "cell_type": "code",
      "metadata": {
        "id": "PQkk3nu4L4vu",
        "colab_type": "code",
        "colab": {}
      },
      "source": [
        "#Calculations here."
      ],
      "execution_count": null,
      "outputs": []
    },
    {
      "cell_type": "markdown",
      "metadata": {
        "colab_type": "text",
        "id": "5bZ8LyiQXnpO"
      },
      "source": [
        "Compare MEs here.\n",
        "\n"
      ]
    }
  ]
}